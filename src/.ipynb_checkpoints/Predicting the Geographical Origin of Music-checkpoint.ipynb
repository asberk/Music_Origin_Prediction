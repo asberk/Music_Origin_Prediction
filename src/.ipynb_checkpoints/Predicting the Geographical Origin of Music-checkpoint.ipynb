{
 "cells": [
  {
   "cell_type": "markdown",
   "metadata": {},
   "source": [
    "# Predicting the Geographical Origin of Music"
   ]
  },
  {
   "cell_type": "markdown",
   "metadata": {},
   "source": [
    "## Overview\n",
    "\n",
    "The quesion that we are looking at, is weather the geographical origin of songs can be predicted based on different audio features. The data can be downloaded [here](http://archive.ics.uci.edu/ml/datasets/geographical+original+of+music). Prior exploration has been performed on this data. The most well-known study can be viewed [here](http://ieeexplore.ieee.org/stamp/stamp.jsp?tp=&arnumber=7023456)."
   ]
  },
  {
   "cell_type": "markdown",
   "metadata": {},
   "source": [
    "## Data Exploaration\n",
    "\n",
    "The dataset consists of audio features that were extracted using [MARSYAS](http://marsyasweb.appspot.com/). The features that we are using can be seen as the key audio features of a song. We need to predict the geographical region of a song based on these features. The data does not include geographical regions, but rather lattitudanal and longitudinal coordinates. We would need to first perform clustering to figure out the geographical region for a set of coordinates."
   ]
  },
  {
   "cell_type": "markdown",
   "metadata": {},
   "source": [
    "## Data Preparation"
   ]
  },
  {
   "cell_type": "code",
   "execution_count": 347,
   "metadata": {
    "collapsed": true
   },
   "outputs": [],
   "source": [
    "import csv\n",
    "import numpy as np\n",
    "from sklearn.cluster import KMeans\n",
    "import matplotlib.pyplot as plt\n",
    "%matplotlib inline\n",
    "import matplotlib\n",
    "\n",
    "with open('../data/default_features_1059_tracks.txt', newline='') as inputfile:\n",
    "    data = list(csv.reader(inputfile))"
   ]
  },
  {
   "cell_type": "code",
   "execution_count": 348,
   "metadata": {},
   "outputs": [
    {
     "data": {
      "text/plain": [
       "(1059, 70)"
      ]
     },
     "execution_count": 348,
     "metadata": {},
     "output_type": "execute_result"
    }
   ],
   "source": [
    "data = np.asarray(data)\n",
    "data.shape"
   ]
  },
  {
   "cell_type": "markdown",
   "metadata": {},
   "source": [
    "Each row is a song (observation) and each song is an audio feature. However, the last two columns are the geographical coordinates, so we need to split this appropriately."
   ]
  },
  {
   "cell_type": "code",
   "execution_count": 349,
   "metadata": {},
   "outputs": [
    {
     "name": "stdout",
     "output_type": "stream",
     "text": [
      "X sample\n",
      "7.835325\n",
      "\n",
      "y sample\n",
      "['-15.75' '-47.95']\n"
     ]
    }
   ],
   "source": [
    "X = data[:, 0:68]\n",
    "y = data[:, 68:70]\n",
    "\n",
    "print(\"X sample\")\n",
    "print(X[0, 1])\n",
    "print(\"\")\n",
    "print(\"y sample\")\n",
    "print(y[0, 0:2])"
   ]
  },
  {
   "cell_type": "markdown",
   "metadata": {},
   "source": [
    "Unfortunately, the coordinates are character values. We need to convert these to numerical values to see the relationship between them on a map."
   ]
  },
  {
   "cell_type": "code",
   "execution_count": 350,
   "metadata": {},
   "outputs": [
    {
     "name": "stdout",
     "output_type": "stream",
     "text": [
      "[-15.75 -47.95]\n"
     ]
    }
   ],
   "source": [
    "y = y.astype(dtype = np.float)\n",
    "print(y[0, 0:2])"
   ]
  },
  {
   "cell_type": "markdown",
   "metadata": {},
   "source": [
    "Seeing that we need to predict the geographic area, we need to reduce the two coordinate prediction column to a single prediction column. Dimension reduction techniques such as PCA might work, but seeing that we know that there are 33 geographic locations within the data, clustering might be a better approach."
   ]
  },
  {
   "cell_type": "code",
   "execution_count": 351,
   "metadata": {},
   "outputs": [],
   "source": [
    "n_clusters = 33\n",
    "kmeans = KMeans(n_clusters=n_clusters, max_iter = 500, algorithm='full')\n",
    "kmeans = kmeans.fit(y)\n",
    "labels = kmeans.predict(y)\n",
    "\n",
    "#print('Centroids')\n",
    "centroids = kmeans.cluster_centers_\n",
    "#print(centroids)"
   ]
  },
  {
   "cell_type": "code",
   "execution_count": 352,
   "metadata": {},
   "outputs": [
    {
     "data": {
      "text/plain": [
       "<matplotlib.figure.Figure at 0x29890c93240>"
      ]
     },
     "execution_count": 352,
     "metadata": {},
     "output_type": "execute_result"
    },
    {
     "data": {
      "image/png": "[encoded data removed]",
      "text/plain": [
       "<matplotlib.figure.Figure at 0x2989271fba8>"
      ]
     },
     "metadata": {},
     "output_type": "display_data"
    },
    {
     "data": {
      "text/plain": [
       "<matplotlib.figure.Figure at 0x29890c93240>"
      ]
     },
     "metadata": {},
     "output_type": "display_data"
    }
   ],
   "source": [
    "plt.style.use('ggplot')\n",
    "label_color = [matplotlib.cm.spectral(float(l) /n_clusters) for l in labels]\n",
    "plt.scatter(y[:, 1], y[:, 0], c = label_color, s=25)\n",
    "plt.title(\"Clustered regions by coordinates\")\n",
    "plt.xlabel(\"Longitude\")\n",
    "plt.ylabel(\"Latitude\")\n",
    "\n",
    "plt.figure()"
   ]
  },
  {
   "cell_type": "markdown",
   "metadata": {},
   "source": [
    "According to the research paper, data was collected from 33 countries/regions. As we can see from the plot above, it seems as if the coordinates provided are identical per region. However, it seeems as if some of the geographical regions are closer to each other than others. Even though countries or regions might be divided by borders, it seems logical that some of these geographical regions would be influenced by nearby located regions. This is important to bear in mind. If we are making inaccurate classifications, we might want to see whether the prediction is a nearby region. If this is the case, we should consider reducing the number of clusters."
   ]
  },
  {
   "cell_type": "code",
   "execution_count": 353,
   "metadata": {
    "collapsed": true
   },
   "outputs": [],
   "source": [
    "y = labels"
   ]
  },
  {
   "cell_type": "markdown",
   "metadata": {},
   "source": [
    "Since we do not know exactly what each feature means and what the range is of each feature, it would be a good idea to scale the X data. This will prevent estimators that are influenced by the dimensionality of the feature space to be influenced too much by variables that have wider ranges than others."
   ]
  },
  {
   "cell_type": "code",
   "execution_count": 354,
   "metadata": {},
   "outputs": [
    {
     "name": "stderr",
     "output_type": "stream",
     "text": [
      "C:\\Users\\User\\Anaconda3\\lib\\site-packages\\sklearn\\utils\\validation.py:429: DataConversionWarning: Data with input dtype <U9 was converted to float64 by StandardScaler.\n",
      "  warnings.warn(msg, _DataConversionWarning)\n"
     ]
    }
   ],
   "source": [
    "from sklearn.preprocessing import StandardScaler\n",
    "\n",
    "Xtrain, Xtest, ytrain, ytest = train_test_split(X, y, test_size=0.8, random_state=1234)\n",
    "\n",
    "X_scaler = StandardScaler().fit(X)\n",
    "\n",
    "scaled_Xtrain = X_scaler.transform(Xtrain)\n",
    "scaled_Xtest = scaler.transform(Xtest)"
   ]
  },
  {
   "cell_type": "markdown",
   "metadata": {},
   "source": [
    "## Feature selection"
   ]
  },
  {
   "cell_type": "markdown",
   "metadata": {},
   "source": [
    "We have 68 features, but we have no idea whether all the features are relevant or not. If we were building a regression model, we would've been able to use something like Lasso to determine which features can be eliminated. However, since we are trying to classify songs by region, we need to use a different approach.\n",
    "\n",
    "We can use Python's `RFE` function to perform backward selection. We still need an estimator to perform feature selection. We can use RFE with a variety of estimators and see which performs the best in terms of minimising the number of features needed for the best accuracy score. We ideally want an estimator with an overall high accuracy score and preferably with a reduced amount of features to simplify the model. For this project we will use the `RFECV` function to combine cross validation with the `RFE` function.\n",
    "\n",
    "Because it is a classification problem, we can consider the following estimators - random forest and SVM (SVC) with a linear kernel. K-nearestneighbours is another option, but because the model does not make use of coefficients, it is not appropriate for feature selection. For each estimator, we should iterate through a range of hyperparameters and consider each combination for feature selection - each model with optimal hyperparameters should be compared for feature selection.\n",
    "\n",
    "Just to be save for when we finally predict our accuracy on our taining data, we should exclude this training data when selecting estimators, even if it while doing feature selection."
   ]
  },
  {
   "cell_type": "code",
   "execution_count": 362,
   "metadata": {},
   "outputs": [
    {
     "ename": "ValueError",
     "evalue": "n_components=69 must be between 0 and n_features=68 with svd_solver='full'",
     "output_type": "error",
     "traceback": [
      "\u001b[1;31m---------------------------------------------------------------------------\u001b[0m",
      "\u001b[1;31mValueError\u001b[0m                                Traceback (most recent call last)",
      "\u001b[1;32m<ipython-input-362-22be7ac00c4e>\u001b[0m in \u001b[0;36m<module>\u001b[1;34m()\u001b[0m\n\u001b[0;32m     54\u001b[0m \u001b[1;33m\u001b[0m\u001b[0m\n\u001b[0;32m     55\u001b[0m             \u001b[0mPCA_model\u001b[0m \u001b[1;33m=\u001b[0m \u001b[0mPCA\u001b[0m\u001b[1;33m(\u001b[0m\u001b[0mn_components\u001b[0m \u001b[1;33m=\u001b[0m \u001b[0mn_comps\u001b[0m\u001b[1;33m)\u001b[0m\u001b[1;33m\u001b[0m\u001b[0m\n\u001b[1;32m---> 56\u001b[1;33m             \u001b[0mPCA_model\u001b[0m\u001b[1;33m.\u001b[0m\u001b[0mfit\u001b[0m\u001b[1;33m(\u001b[0m\u001b[0mscaled_Xtrain\u001b[0m\u001b[1;33m)\u001b[0m\u001b[1;33m\u001b[0m\u001b[0m\n\u001b[0m\u001b[0;32m     57\u001b[0m             \u001b[0mPCA_Xtrain\u001b[0m \u001b[1;33m=\u001b[0m \u001b[0mPCA_model\u001b[0m\u001b[1;33m.\u001b[0m\u001b[0mtransform\u001b[0m\u001b[1;33m(\u001b[0m\u001b[0mscaled_Xtrain\u001b[0m\u001b[1;33m)\u001b[0m\u001b[1;33m\u001b[0m\u001b[0m\n\u001b[0;32m     58\u001b[0m             \u001b[0mPCA_Xtest\u001b[0m \u001b[1;33m=\u001b[0m \u001b[0mPCA_model\u001b[0m\u001b[1;33m.\u001b[0m\u001b[0mtransform\u001b[0m\u001b[1;33m(\u001b[0m\u001b[0mscaled_Xtest\u001b[0m\u001b[1;33m)\u001b[0m\u001b[1;33m\u001b[0m\u001b[0m\n",
      "\u001b[1;32mC:\\Users\\User\\Anaconda3\\lib\\site-packages\\sklearn\\decomposition\\pca.py\u001b[0m in \u001b[0;36mfit\u001b[1;34m(self, X, y)\u001b[0m\n\u001b[0;32m    305\u001b[0m             \u001b[0mReturns\u001b[0m \u001b[0mthe\u001b[0m \u001b[0minstance\u001b[0m \u001b[0mitself\u001b[0m\u001b[1;33m.\u001b[0m\u001b[1;33m\u001b[0m\u001b[0m\n\u001b[0;32m    306\u001b[0m         \"\"\"\n\u001b[1;32m--> 307\u001b[1;33m         \u001b[0mself\u001b[0m\u001b[1;33m.\u001b[0m\u001b[0m_fit\u001b[0m\u001b[1;33m(\u001b[0m\u001b[0mX\u001b[0m\u001b[1;33m)\u001b[0m\u001b[1;33m\u001b[0m\u001b[0m\n\u001b[0m\u001b[0;32m    308\u001b[0m         \u001b[1;32mreturn\u001b[0m \u001b[0mself\u001b[0m\u001b[1;33m\u001b[0m\u001b[0m\n\u001b[0;32m    309\u001b[0m \u001b[1;33m\u001b[0m\u001b[0m\n",
      "\u001b[1;32mC:\\Users\\User\\Anaconda3\\lib\\site-packages\\sklearn\\decomposition\\pca.py\u001b[0m in \u001b[0;36m_fit\u001b[1;34m(self, X)\u001b[0m\n\u001b[0;32m    366\u001b[0m         \u001b[1;31m# Call different fits for either full or truncated SVD\u001b[0m\u001b[1;33m\u001b[0m\u001b[1;33m\u001b[0m\u001b[0m\n\u001b[0;32m    367\u001b[0m         \u001b[1;32mif\u001b[0m \u001b[0msvd_solver\u001b[0m \u001b[1;33m==\u001b[0m \u001b[1;34m'full'\u001b[0m\u001b[1;33m:\u001b[0m\u001b[1;33m\u001b[0m\u001b[0m\n\u001b[1;32m--> 368\u001b[1;33m             \u001b[1;32mreturn\u001b[0m \u001b[0mself\u001b[0m\u001b[1;33m.\u001b[0m\u001b[0m_fit_full\u001b[0m\u001b[1;33m(\u001b[0m\u001b[0mX\u001b[0m\u001b[1;33m,\u001b[0m \u001b[0mn_components\u001b[0m\u001b[1;33m)\u001b[0m\u001b[1;33m\u001b[0m\u001b[0m\n\u001b[0m\u001b[0;32m    369\u001b[0m         \u001b[1;32melif\u001b[0m \u001b[0msvd_solver\u001b[0m \u001b[1;32min\u001b[0m \u001b[1;33m[\u001b[0m\u001b[1;34m'arpack'\u001b[0m\u001b[1;33m,\u001b[0m \u001b[1;34m'randomized'\u001b[0m\u001b[1;33m]\u001b[0m\u001b[1;33m:\u001b[0m\u001b[1;33m\u001b[0m\u001b[0m\n\u001b[0;32m    370\u001b[0m             \u001b[1;32mreturn\u001b[0m \u001b[0mself\u001b[0m\u001b[1;33m.\u001b[0m\u001b[0m_fit_truncated\u001b[0m\u001b[1;33m(\u001b[0m\u001b[0mX\u001b[0m\u001b[1;33m,\u001b[0m \u001b[0mn_components\u001b[0m\u001b[1;33m,\u001b[0m \u001b[0msvd_solver\u001b[0m\u001b[1;33m)\u001b[0m\u001b[1;33m\u001b[0m\u001b[0m\n",
      "\u001b[1;32mC:\\Users\\User\\Anaconda3\\lib\\site-packages\\sklearn\\decomposition\\pca.py\u001b[0m in \u001b[0;36m_fit_full\u001b[1;34m(self, X, n_components)\u001b[0m\n\u001b[0;32m    381\u001b[0m             raise ValueError(\"n_components=%r must be between 0 and \"\n\u001b[0;32m    382\u001b[0m                              \u001b[1;34m\"n_features=%r with svd_solver='full'\"\u001b[0m\u001b[1;33m\u001b[0m\u001b[0m\n\u001b[1;32m--> 383\u001b[1;33m                              % (n_components, n_features))\n\u001b[0m\u001b[0;32m    384\u001b[0m \u001b[1;33m\u001b[0m\u001b[0m\n\u001b[0;32m    385\u001b[0m         \u001b[1;31m# Center data\u001b[0m\u001b[1;33m\u001b[0m\u001b[1;33m\u001b[0m\u001b[0m\n",
      "\u001b[1;31mValueError\u001b[0m: n_components=69 must be between 0 and n_features=68 with svd_solver='full'"
     ]
    }
   ],
   "source": [
    "from sklearn.svm import SVC\n",
    "from sklearn.model_selection import StratifiedKFold\n",
    "from sklearn.feature_selection import RFECV\n",
    "from sklearn.datasets import make_classification\n",
    "from sklearn.ensemble import RandomForestClassifier\n",
    "from sklearn.model_selection import train_test_split\n",
    "from sklearn.grid_search import ParameterGrid\n",
    "from sklearn.decomposition import PCA\n",
    "from sklearn.linear_model import LogisticRegression\n",
    "\n",
    "\n",
    "\n",
    "#Xtrain, Xtest, ytrain, ytest = train_test_split(X, y, test_size=0.8, random_state=1234)\n",
    "\n",
    "estimators = {}\n",
    "\n",
    "estimators['svc'] = SVC\n",
    "estimators['rfc'] = RandomForestClassifier\n",
    "estimators['logreg'] = LogisticRegression\n",
    "\n",
    "params = {}\n",
    "params['svc'] = {'kernel': ['linear'], 'C': [10**x for x in range(-1, 3, 1)], \n",
    "                 'gamma': [10**x for x in range(-1, 2, 1)], \n",
    "                'random_state': [1234]}\n",
    "params['rfc'] = {'n_estimators': [5*x for x in range(3, 5, 1)]}\n",
    "\n",
    "params['logreg'] = {'C': [10**x for x in range(-1, 3, 1)], 'penalty': ['l1', 'l2']}\n",
    "\n",
    "rfe_best_model = {}\n",
    "pca_best_model = {}\n",
    "                          \n",
    "\n",
    "for i, estimator in enumerate(estimators):\n",
    "    model_params = ParameterGrid(params[estimator])\n",
    "    grid = model_params\n",
    "    \n",
    "    rfe_best_model[estimator] = []\n",
    "    pca_best_model[estimator] = []\n",
    "    \n",
    "    for n_comps in range(1, scaled_Xtrain.shape[1], 1):\n",
    "        rfe_best_model[estimator].append(0)\n",
    "        pca_best_model[estimator].append(0)\n",
    "            \n",
    "        for params_combo in grid:\n",
    "        \n",
    "            estimator_iter = estimators[estimator]\n",
    "            estimator_iter = estimator_iter(**params_combo)\n",
    "\n",
    "            rfe = RFE(estimator = estimator_iter, n_features_to_select=n_comps)\n",
    "            rfe.fit(scaled_Xtrain, ytrain)\n",
    "\n",
    "            if (rfe.score(scaled_Xtest, ytest) > rfe_best_model[estimator][n_comps - 1]):\n",
    "                rfe_best_model[estimator][n_comps - 1] = rfe.score(scaled_Xtest, ytest)\n",
    "                \n",
    "            PCA_model = PCA(n_components = n_comps)\n",
    "            PCA_model.fit(scaled_Xtrain)\n",
    "            PCA_Xtrain = PCA_model.transform(scaled_Xtrain)\n",
    "            PCA_Xtest = PCA_model.transform(scaled_Xtest)\n",
    "            \n",
    "            estimator_iter.fit(PCA_Xtrain, ytrain)\n",
    "            \n",
    "            if (estimator_iter.score(PCA_Xtest, ytest) > pca_best_model[estimator][n_comps - 1]):\n",
    "                pca_best_model[estimator][n_comps - 1] = estimator_iter.score(PCA_Xtest, ytest)\n",
    "\n",
    "    plt.figure()\n",
    "    plt.xlabel(\"%s - Number of features selected\" % estimator)\n",
    "    plt.ylabel(\"Accuracy score\")\n",
    "    plt.plot(range(1, len(pca_best_model[estimator]) + 1, 1), pca_best_model[estimator], c = 'r')\n",
    "    plt.plot(range(1, len(rfe_best_model[estimator]) + 1, 1), rfe_best_model[estimator], c = 'b')\n",
    "    plt.show()"
   ]
  },
  {
   "cell_type": "code",
   "execution_count": 363,
   "metadata": {},
   "outputs": [
    {
     "data": {
      "text/plain": [
       "(211, 68)"
      ]
     },
     "execution_count": 363,
     "metadata": {},
     "output_type": "execute_result"
    }
   ],
   "source": [
    "scaled_Xtrain.shape"
   ]
  },
  {
   "cell_type": "markdown",
   "metadata": {},
   "source": [
    "By looking at the graphs we can see that the accuracy scores are not as high as we would like a classification model to have. But the trends do indicate that we can neglect a few features that might be redundant. Even though we have an optimal number of features for each type of best model, this number of features shouldn't be taken too literal - as soon as the trend starts to level out (even if it does have a few random spikes after that), we should be aware that the additional features aren't helping the model much.\n",
    "\n",
    "For both models it seems as if there is a lot of noise for models with more than 25 (out of 68) features. We can take the top ranked features from our best random forest model to use in our final model."
   ]
  },
  {
   "cell_type": "code",
   "execution_count": 346,
   "metadata": {},
   "outputs": [
    {
     "name": "stdout",
     "output_type": "stream",
     "text": [
      "[ 0.10885532  0.11428424  0.01434912 -0.06588778  0.02044336 -0.01461249\n",
      " -0.03528021 -0.09030571 -0.00499633 -0.048758   -0.07440697  0.04589941\n",
      "  0.05704516  0.04324232  0.01138012  0.01253347  0.04297239  0.02304579\n",
      "  0.04685744 -0.02064149 -0.04992242 -0.05059721 -0.05115142  0.00602341\n",
      " -0.07768394 -0.06583592 -0.1040832  -0.13376713 -0.14051986 -0.13168136\n",
      " -0.12026608 -0.13127728 -0.15738717 -0.09561482  0.09634976  0.08275679\n",
      " -0.01690416 -0.01754727  0.03398779  0.0299489   0.03281653 -0.04667214\n",
      " -0.08378511 -0.08178473 -0.03499983 -0.08945715 -0.08159289 -0.03162559\n",
      " -0.02311046 -0.03792152 -0.03211559  0.04805538  0.05338981 -0.00988282\n",
      "  0.14861086  0.07990634  0.00493297  0.06155257 -0.01349728 -0.02040184\n",
      " -0.01767291 -0.06308272 -0.10465892 -0.09749906 -0.08340333 -0.08551065\n",
      " -0.11388706 -0.05162505]\n",
      "[ 1.25169918  1.18815595  1.02827085  0.88129413  0.96538217  1.0757258\n",
      "  1.02152973  1.00690664  1.03269237  0.99098098  1.03771869  0.96947423\n",
      "  0.99855966  0.98394899  0.99861613  0.91506334  1.02293607  1.07525926\n",
      "  1.08830555  0.99709241  0.90490729  0.98041835  1.00163562  1.02222503\n",
      "  0.94037678  0.98379283  0.93832904  0.85592044  0.82640345  0.86301151\n",
      "  0.95590754  0.8480644   0.7892288   0.9253469   1.13211194  1.01107492\n",
      "  0.95437826  1.00697196  0.92793692  1.05499323  1.00059306  0.93079037\n",
      "  0.91932742  0.98983484  0.96802606  0.82703954  0.82435591  0.94469316\n",
      "  0.97032927  0.9719119   0.956176    0.99517828  0.9952587   0.96128235\n",
      "  1.36126831  0.94260833  1.0125489   1.0107001   0.9712159   1.00513695\n",
      "  0.9941106   0.87729031  0.8027325   0.89047592  0.95269778  0.90007079\n",
      "  0.8538128   0.97261434]\n",
      "[-0.02708546 -0.02843629 -0.00357036  0.01639425 -0.00508673  0.00363589\n",
      "  0.00877845  0.02246994  0.00124319  0.012132    0.018514   -0.01142073\n",
      " -0.01419402 -0.01075959 -0.00283161 -0.00311859 -0.01069242 -0.00573427\n",
      " -0.0116591   0.00513603  0.01242173  0.01258964  0.01272753 -0.00149875\n",
      "  0.01932938  0.01638134  0.02589806  0.03328404  0.03496426  0.03276506\n",
      "  0.0299247   0.03266451  0.03916119  0.02379095 -0.02397382 -0.02059161\n",
      "  0.00420611  0.00436612 -0.00845687 -0.00745191 -0.00816543  0.011613\n",
      "  0.02084747  0.02034974  0.00870868  0.0222588   0.020302    0.0078691\n",
      "  0.00575036  0.00943566  0.00799102 -0.01195717 -0.01328449  0.00245905\n",
      " -0.03697747 -0.01988235 -0.00122742 -0.01531556  0.0033584   0.0050764\n",
      "  0.00439739  0.01569629  0.02604131  0.02425979  0.02075248  0.02127682\n",
      "  0.02833746  0.01284538]\n",
      "[ 0.92482356  0.94525046  0.99280834  1.02675112  1.00836463  0.98021554\n",
      "  0.99437609  0.99700403  0.99169412  1.00186291  0.98952275  1.0071268\n",
      "  0.99985253  1.00366454  1.00032392  1.02001183  0.99392221  0.98029257\n",
      "  0.97643892  1.000656    1.02190883  1.00441711  0.99918585  0.99438711\n",
      "  1.01336629  1.00332107  1.01310287  1.0300362   1.03573876  1.02864655\n",
      "  1.00844637  1.03175118  1.0421793   1.0163282   0.96282303  0.99615763\n",
      "  1.01098793  0.99820974  1.0169614   0.98569868  0.99968502  1.01615593\n",
      "  1.01801049  1.00147615  1.00760932  1.03737268  1.03810538  1.01313922\n",
      "  1.00716452  1.00664525  1.01045053  1.00083771  1.0007338   1.00938802\n",
      "  0.88367444  1.01279656  0.99684924  0.99672936  1.00700616  0.99865296\n",
      "  1.00141157  1.02765862  1.04167277  1.0239947   1.01035703  1.02223879\n",
      "  1.03121339  1.00628698]\n"
     ]
    },
    {
     "name": "stderr",
     "output_type": "stream",
     "text": [
      "C:\\Users\\User\\Anaconda3\\lib\\site-packages\\sklearn\\utils\\validation.py:429: DataConversionWarning: Data with input dtype <U9 was converted to float64 by StandardScaler.\n",
      "  warnings.warn(msg, _DataConversionWarning)\n"
     ]
    }
   ],
   "source": [
    "from sklearn.decomposition import PCA\n",
    "from sklearn.linear_model import LogisticRegression\n",
    "\n",
    "best_model = {}\n",
    "\n",
    "for i, estimator in enumerate(estimators):\n",
    "    model_params = ParameterGrid(params[estimator])\n",
    "    grid = model_params\n",
    "    \n",
    "    best_model[estimator] = [0]\n",
    "    \n",
    "    for params_combo in grid:\n",
    "        \n",
    "        estimator_iter = estimators[estimator]\n",
    "        estimator_iter = estimator_iter(**params_combo)\n",
    "            \n",
    "        rfecv = RFECV(estimator = estimator_iter, step=1, cv=StratifiedKFold(n_splits=2, shuffle=True),\n",
    "                  scoring='accuracy')\n",
    "        \n",
    "        rfecv.fit(scaled_Xtrain, ytrain)\n",
    "        \n",
    "        if (max(rfecv.grid_scores_) > best_model[estimator][0]):\n",
    "            best_model[estimator] = [max(rfecv.grid_scores_), params_combo, rfecv.n_features_, rfecv.grid_scores_]\n",
    "\n",
    "    print(\"For %s optimal parameters are %s with number of features : %d\" % (estimator, best_model[estimator][1], \n",
    "         best_model[estimator][2]))\n",
    "\n",
    "    plt.figure()\n",
    "    plt.xlabel(\"Number of features selected\")\n",
    "    plt.ylabel(\"Cross validation score (nb of correct classifications)\")\n",
    "    plt.plot(range(1, len(best_model[estimator][3]) + 1), best_model[estimator][3])\n",
    "    plt.show()\n",
    "\n",
    "model = LogisticRegression(penalty='l2', C=1.0, class_weight=None, random_state=1234)\n",
    "model.fit(scaled_Xtrain, ytrain)\n"
   ]
  },
  {
   "cell_type": "code",
   "execution_count": 263,
   "metadata": {},
   "outputs": [],
   "source": [
    "from sklearn.feature_selection import RFE\n",
    "\n",
    "Xtrain, Xtest, ytrain, ytest = train_test_split(X, y, test_size=0.8, random_state=1234)\n",
    "\n",
    "rfc = RandomForestClassifier(n_estimators=35)\n",
    "\n",
    "rfe = RFE(estimator = rfc, n_features_to_select=25)\n",
    "rfe.fit(Xtrain, ytrain)\n",
    "X_reduced = rfe.transform(X)\n",
    "\n",
    "Xtrain, Xtest, ytrain, ytest = train_test_split(X_reduced, y, test_size=0.8, random_state=1234)"
   ]
  },
  {
   "cell_type": "code",
   "execution_count": 264,
   "metadata": {},
   "outputs": [
    {
     "data": {
      "text/plain": [
       "(1059, 25)"
      ]
     },
     "execution_count": 264,
     "metadata": {},
     "output_type": "execute_result"
    }
   ],
   "source": [
    "X_reduced.shape"
   ]
  },
  {
   "cell_type": "markdown",
   "metadata": {},
   "source": [
    "## Model Building\n",
    "\n",
    "We can now use this these features to test out the same estimators and include k nearest neighbours."
   ]
  },
  {
   "cell_type": "code",
   "execution_count": 265,
   "metadata": {},
   "outputs": [
    {
     "name": "stdout",
     "output_type": "stream",
     "text": [
      "For svc the best cv accuracy score is 0.287529390487\n",
      "For rfc the best cv accuracy score is 0.279526134925\n",
      "For knn the best cv accuracy score is 0.306068005064\n"
     ]
    }
   ],
   "source": [
    "from sklearn.model_selection import cross_val_score\n",
    "from sklearn.neighbors import KNeighborsClassifier\n",
    "\n",
    "estimators = {}\n",
    "\n",
    "estimators['svc'] = SVC\n",
    "estimators['rfc'] = RandomForestClassifier\n",
    "estimators['knn'] = KNeighborsClassifier\n",
    "\n",
    "params = {}\n",
    "params['svc'] = {'kernel': ['linear'], 'C': [10**x for x in range(-2, 3, 1)], \n",
    "                 'gamma': [10**x for x in range(-2, 3, 1)], \n",
    "                'random_state': [1234]}\n",
    "params['rfc'] = {'n_estimators': [5*x for x in range(1, 8, 1)]}\n",
    "\n",
    "params['knn'] = {'n_neighbors': range(1, 15, 1), 'p': [1, 2]}\n",
    "\n",
    "best_model = {}\n",
    "\n",
    "for i, estimator in enumerate(estimators):\n",
    "    model_params = ParameterGrid(params[estimator])\n",
    "    grid = model_params\n",
    "    \n",
    "    best_model[estimator] = [0]\n",
    "    \n",
    "    for params_combo in grid:\n",
    "        \n",
    "        estimator_iter = estimators[estimator]\n",
    "        estimator_iter = estimator_iter(**params_combo)\n",
    "            \n",
    "        estimator_iter.fit(Xtrain, ytrain)\n",
    "        scores = cross_val_score(estimator_iter, Xtrain, ytrain, cv = 2, scoring='accuracy') # smallest class has 2 members\n",
    "        \n",
    "        if (scores.mean() > best_model[estimator][0]):\n",
    "            best_model[estimator] = [scores.mean(), estimator_iter.get_params]\n",
    "\n",
    "    print(\"For %s the best cv accuracy score is %s\" % (estimator, best_model[estimator][0]))"
   ]
  },
  {
   "cell_type": "markdown",
   "metadata": {},
   "source": [
    "## Re-clustering"
   ]
  },
  {
   "cell_type": "markdown",
   "metadata": {},
   "source": [
    "The cross validation scorese for the differernt models are fairly similar, but all of them are really low. Due to this reason, it might be a good idea use clustering to re-assign the the classification groups. Seeing that the initial problem relates to geographic locations, we have to apply clustering based on the coordinates of the region. It would be fair to say that the US and Australia listens to similar types of music, but then we will be predicting music types instead of regions. For now, let's group by geographic locations.\n",
    "\n",
    "We can apply each of the models above to different number of clusters to see if our accuracy improves."
   ]
  },
  {
   "cell_type": "code",
   "execution_count": 266,
   "metadata": {},
   "outputs": [],
   "source": [
    "with open('../data/default_features_1059_tracks.txt', newline='') as inputfile:\n",
    "    data = list(csv.reader(inputfile))\n",
    "    \n",
    "data = np.asarray(data)\n",
    "data.shape\n",
    "\n",
    "y_coords = data[:, 68:70]\n",
    "y_coords = y_coords.astype(dtype = np.float)\n",
    "\n",
    "n_clusters = range(2, 33, 1)\n",
    "\n",
    "accuracies = {'svc':[], 'rfc':[], 'knn':[]}\n",
    "\n",
    "for n in n_clusters:\n",
    "    kmeans = KMeans(n_clusters=n, max_iter = 300, algorithm='full')\n",
    "    kmeans = kmeans.fit(y_coords)\n",
    "    labels = kmeans.predict(y_coords)\n",
    "    \n",
    "    Xtrain, Xtest, ytrain, ytest = train_test_split(X, labels, test_size=0.8, random_state=1234)\n",
    "\n",
    "    best_model = {}\n",
    "\n",
    "    for i, estimator in enumerate(estimators):\n",
    "        model_params = ParameterGrid(params[estimator])\n",
    "        grid = model_params\n",
    "\n",
    "        best_model[estimator] = [0]\n",
    "        #accuracies[estimator] = []\n",
    "\n",
    "        for params_combo in grid:\n",
    "\n",
    "            estimator_iter = estimators[estimator]\n",
    "            estimator_iter = estimator_iter(**params_combo)\n",
    "\n",
    "            #estimator_iter.fit(Xtrain, ytrain)\n",
    "            scores = cross_val_score(estimator_iter, Xtrain, ytrain, cv = 2, scoring='accuracy') # smallest class has 2 members\n",
    "\n",
    "            if (scores.mean() > best_model[estimator][0]):\n",
    "                best_model[estimator] = [scores.mean(), estimator_iter.get_params]\n",
    "\n",
    "        accuracies[estimator].append(best_model[estimator][0])"
   ]
  },
  {
   "cell_type": "code",
   "execution_count": 267,
   "metadata": {},
   "outputs": [
    {
     "data": {
      "image/png": "[encoded data removed]",
      "text/plain": [
       "<matplotlib.figure.Figure at 0x2989275c588>"
      ]
     },
     "metadata": {},
     "output_type": "display_data"
    }
   ],
   "source": [
    "plt.figure()\n",
    "plt.xlabel(\"Number of clusters\")\n",
    "plt.ylabel(\"Mean cross validation score\")\n",
    "plt.title(\"Accuracy for different number of location clusters\")\n",
    "plt.plot(range(2, len(accuracies['knn']) + 2),accuracies['knn'], c = 'r')\n",
    "plt.plot(range(2, len(accuracies['svc']) + 2),accuracies['svc'], c = 'b')\n",
    "plt.plot(range(2, len(accuracies['rfc']) + 2),accuracies['rfc'], c = 'g')\n",
    "plt.show()"
   ]
  },
  {
   "cell_type": "markdown",
   "metadata": {},
   "source": [
    "The plot shows that the accuracy decreases exponentially as the number of coordinate clusters increase. This is understandable, becuase it is more likely of randomly predicting the correct cluster if there are only a few clusters to choose from. The elbow of the curves above is around 7 clusters. No penalty score has been added, which makes it understandable that the slopes continues to decrease after this.\n",
    "\n",
    "Given the above plot, it would be a good idea to visualise the above three models at 5 neighbours on a coordinate scatterplot."
   ]
  },
  {
   "cell_type": "markdown",
   "metadata": {},
   "source": [
    "We can view the coordinates for 5  clusters to see if it makes sense."
   ]
  },
  {
   "cell_type": "code",
   "execution_count": 322,
   "metadata": {},
   "outputs": [
    {
     "data": {
      "text/plain": [
       "<matplotlib.figure.Figure at 0x29892780e10>"
      ]
     },
     "execution_count": 322,
     "metadata": {},
     "output_type": "execute_result"
    },
    {
     "data": {
      "image/png": "[encoded data removed]",
      "text/plain": [
       "<matplotlib.figure.Figure at 0x298941440f0>"
      ]
     },
     "metadata": {},
     "output_type": "display_data"
    },
    {
     "data": {
      "text/plain": [
       "<matplotlib.figure.Figure at 0x29892780e10>"
      ]
     },
     "metadata": {},
     "output_type": "display_data"
    }
   ],
   "source": [
    "with open('../data/default_features_1059_tracks.txt', newline='') as inputfile:\n",
    "    data = list(csv.reader(inputfile))\n",
    "    \n",
    "data = np.asarray(data)\n",
    "data.shape\n",
    "\n",
    "y_coords = data[:, 68:70]\n",
    "y_coords = y_coords.astype(dtype = np.float)\n",
    "\n",
    "n_clusters = 7\n",
    "kmeans = KMeans(n_clusters=n_clusters, max_iter = 500, algorithm='full')\n",
    "kmeans = kmeans.fit(y_coords)\n",
    "labels = kmeans.predict(y_coords)\n",
    "\n",
    "#print('Centroids')\n",
    "centroids = kmeans.cluster_centers_\n",
    "#print(centroids)\n",
    "\n",
    "plt.style.use('ggplot')\n",
    "label_color = [matplotlib.cm.spectral(float(l) /n_clusters) for l in labels]\n",
    "plt.scatter(y_coords[:, 1], y_coords[:, 0], c = label_color, s=25)\n",
    "plt.title(\"Clustered regions by coordinates\")\n",
    "plt.xlabel(\"Longitude\")\n",
    "plt.ylabel(\"Latitude\")\n",
    "\n",
    "plt.figure()"
   ]
  },
  {
   "cell_type": "code",
   "execution_count": 325,
   "metadata": {},
   "outputs": [
    {
     "data": {
      "text/plain": [
       "{'knn': [0.25759631036353769,\n",
       "  <bound method BaseEstimator.get_params of KNeighborsClassifier(algorithm='auto', leaf_size=30, metric='minkowski',\n",
       "             metric_params=None, n_jobs=1, n_neighbors=1, p=1,\n",
       "             weights='uniform')>],\n",
       " 'rfc': [0.27360282148670645,\n",
       "  <bound method BaseEstimator.get_params of RandomForestClassifier(bootstrap=True, class_weight=None, criterion='gini',\n",
       "              max_depth=None, max_features='auto', max_leaf_nodes=None,\n",
       "              min_impurity_split=1e-07, min_samples_leaf=1,\n",
       "              min_samples_split=2, min_weight_fraction_leaf=0.0,\n",
       "              n_estimators=20, n_jobs=1, oob_score=False, random_state=None,\n",
       "              verbose=0, warm_start=False)>],\n",
       " 'svc': [0.25605896183758364,\n",
       "  <bound method BaseEstimator.get_params of SVC(C=0.1, cache_size=200, class_weight=None, coef0=0.0,\n",
       "    decision_function_shape=None, degree=3, gamma=0.01, kernel='linear',\n",
       "    max_iter=-1, probability=False, random_state=1234, shrinking=True,\n",
       "    tol=0.001, verbose=False)>]}"
      ]
     },
     "execution_count": 325,
     "metadata": {},
     "output_type": "execute_result"
    }
   ],
   "source": [
    "best_model"
   ]
  },
  {
   "cell_type": "code",
   "execution_count": 331,
   "metadata": {},
   "outputs": [],
   "source": [
    "with open('../data/default_features_1059_tracks.txt', newline='') as inputfile:\n",
    "    data = list(csv.reader(inputfile))\n",
    "    \n",
    "data = np.asarray(data)\n",
    "data.shape\n",
    "\n",
    "y_coords = data[:, 68:70]\n",
    "y_coords = y_coords.astype(dtype = np.float)\n",
    "\n",
    "n_clusters = 7\n",
    "\n",
    "accuracies = {'svc':[], 'rfc':[], 'knn':[]}\n",
    "\n",
    "kmeans = KMeans(n_clusters=n_clusters, max_iter = 300, algorithm='full')\n",
    "kmeans = kmeans.fit(y_coords)\n",
    "labels = kmeans.predict(y_coords)\n",
    "\n",
    "Xtrain, Xtest, ytrain, ytest = train_test_split(X, labels, test_size=0.8, random_state=1234)\n",
    "\n",
    "best_model = {}\n",
    "\n",
    "for i, estimator in enumerate(estimators):\n",
    "    model_params = ParameterGrid(params[estimator])\n",
    "    grid = model_params\n",
    "\n",
    "    best_model[estimator] = [0]\n",
    "    #accuracies[estimator] = []\n",
    "\n",
    "    for params_combo in grid:\n",
    "\n",
    "        estimator_iter = estimators[estimator]\n",
    "        estimator_iter = estimator_iter(**params_combo)\n",
    "        estimator_iter.fit(Xtrain, ytrain)\n",
    "        #estimator_iter.fit(Xtrain, ytrain)\n",
    "        scores = cross_val_score(estimator_iter, Xtest, ytest, cv = 2, scoring='accuracy') # smallest class has 2 members\n",
    "\n",
    "        if (scores.mean() > best_model[estimator][0]):\n",
    "            best_model[estimator] = [scores.mean(), estimator_iter.get_params, estimator_iter.predict(Xtest)]\n",
    "\n",
    "    accuracies[estimator].append(best_model[estimator][0])"
   ]
  },
  {
   "cell_type": "code",
   "execution_count": 338,
   "metadata": {},
   "outputs": [
    {
     "data": {
      "text/plain": [
       "<matplotlib.figure.Figure at 0x29891258a20>"
      ]
     },
     "execution_count": 338,
     "metadata": {},
     "output_type": "execute_result"
    },
    {
     "data": {
      "image/png": "[encoded data removed]",
      "text/plain": [
       "<matplotlib.figure.Figure at 0x2989126b160>"
      ]
     },
     "metadata": {},
     "output_type": "display_data"
    },
    {
     "data": {
      "text/plain": [
       "<matplotlib.figure.Figure at 0x29891258a20>"
      ]
     },
     "metadata": {},
     "output_type": "display_data"
    }
   ],
   "source": [
    "plt.style.use('ggplot')\n",
    "label_color = [matplotlib.cm.spectral(float(l) /n_clusters) for l in best_model['svc'][2]]\n",
    "plt.scatter(y_coords[:, 1], y_coords[:, 0], c = label_color, s=25)\n",
    "plt.title(\"Clustered regions by SVC classification (Accuracy score: %s)\" % best_model['svc'][0])\n",
    "plt.xlabel(\"Longitude\")\n",
    "plt.ylabel(\"Latitude\")\n",
    "\n",
    "plt.figure()"
   ]
  },
  {
   "cell_type": "code",
   "execution_count": 339,
   "metadata": {},
   "outputs": [
    {
     "data": {
      "text/plain": [
       "<matplotlib.figure.Figure at 0x29895cce2b0>"
      ]
     },
     "execution_count": 339,
     "metadata": {},
     "output_type": "execute_result"
    },
    {
     "data": {
      "image/png": "[encoded data removed]",
      "text/plain": [
       "<matplotlib.figure.Figure at 0x29891486438>"
      ]
     },
     "metadata": {},
     "output_type": "display_data"
    },
    {
     "data": {
      "text/plain": [
       "<matplotlib.figure.Figure at 0x29895cce2b0>"
      ]
     },
     "metadata": {},
     "output_type": "display_data"
    }
   ],
   "source": [
    "plt.style.use('ggplot')\n",
    "label_color = [matplotlib.cm.spectral(float(l) /n_clusters) for l in best_model['knn'][2]]\n",
    "plt.scatter(y_coords[:, 1], y_coords[:, 0], c = label_color, s=25)\n",
    "plt.title(\"Clustered regions by KNN classification (Accuracy score: %s)\" % best_model['knn'][0])\n",
    "plt.xlabel(\"Longitude\")\n",
    "plt.ylabel(\"Latitude\")\n",
    "\n",
    "plt.figure()"
   ]
  },
  {
   "cell_type": "code",
   "execution_count": 341,
   "metadata": {},
   "outputs": [
    {
     "data": {
      "text/plain": [
       "<matplotlib.figure.Figure at 0x2989436c550>"
      ]
     },
     "execution_count": 341,
     "metadata": {},
     "output_type": "execute_result"
    },
    {
     "data": {
      "image/png": "[encoded data removed]",
      "text/plain": [
       "<matplotlib.figure.Figure at 0x29890cb07f0>"
      ]
     },
     "metadata": {},
     "output_type": "display_data"
    },
    {
     "data": {
      "text/plain": [
       "<matplotlib.figure.Figure at 0x2989436c550>"
      ]
     },
     "metadata": {},
     "output_type": "display_data"
    }
   ],
   "source": [
    "plt.style.use('ggplot')\n",
    "label_color = [matplotlib.cm.spectral(float(l) /n_clusters) for l in best_model['rfc'][2]]\n",
    "plt.scatter(y_coords[:, 1], y_coords[:, 0], c = label_color, s=25)\n",
    "plt.title(\"Clustered regions by Random Forest classification (Accuracy score: %s)\" % best_model['rfc'][0])\n",
    "plt.xlabel(\"Longitude\")\n",
    "plt.ylabel(\"Latitude\")\n",
    "\n",
    "plt.figure()"
   ]
  },
  {
   "cell_type": "markdown",
   "metadata": {},
   "source": [
    "After applying our the best hyperparameters to each of the three models, we were still not could still not reach 50% accuracy for classifying music by geographic location, even after we reduced the number of cluster to 7.\n",
    "\n",
    "Random Forest Classification did marginally better than the other two models with an accuracy score of 46.3% when considering 7 geographical clusters."
   ]
  },
  {
   "cell_type": "code",
   "execution_count": null,
   "metadata": {},
   "outputs": [],
   "source": []
  },
  {
   "cell_type": "markdown",
   "metadata": {},
   "source": [
    "Geographically the coordinate plot above makes more or less sense. Kmeans have roughly clustered different continents together. There are a few points that might not be in the correct geographic cluster, but it makes sense to cluster as above.\n",
    "\n",
    "The second plot shows clustering according  to music features. Even though the colours do not seem to be matching the cluster colours on the on the coordinate clustering plot, it would appear as if the second plot is somewhat clustered by geographic location. However, it is difficult to measure this accuracy by only looking at the plot.\n",
    "\n",
    "Becuase we want to classify by geographic region, we can consider the centroids of the second plot, and measure the coordinate distance between predictions and the centroids using different models.\n",
    "\n",
    "Let's first see where the centroids of the second plot are."
   ]
  },
  {
   "cell_type": "code",
   "execution_count": null,
   "metadata": {},
   "outputs": [],
   "source": [
    "\n",
    "    "
   ]
  },
  {
   "cell_type": "code",
   "execution_count": null,
   "metadata": {},
   "outputs": [],
   "source": []
  },
  {
   "cell_type": "markdown",
   "metadata": {},
   "source": [
    "We can see from the plot above that the number of same predictions made between geographical clusters and song clusters reduce as we decrease the number of clusters. As discussed earlier, this makes sense. We can consider the elbow of the curve again as the number of clusters that would be most realistic. Let's plot these to see the correspondance at 7 clusters."
   ]
  },
  {
   "cell_type": "code",
   "execution_count": null,
   "metadata": {},
   "outputs": [],
   "source": []
  },
  {
   "cell_type": "code",
   "execution_count": null,
   "metadata": {
    "collapsed": true
   },
   "outputs": [],
   "source": []
  }
 ],
 "metadata": {
  "kernelspec": {
   "display_name": "Python 3",
   "language": "python",
   "name": "python3"
  },
  "language_info": {
   "codemirror_mode": {
    "name": "ipython",
    "version": 3
   },
   "file_extension": ".py",
   "mimetype": "text/x-python",
   "name": "python",
   "nbconvert_exporter": "python",
   "pygments_lexer": "ipython3",
   "version": "3.6.1"
  }
 },
 "nbformat": 4,
 "nbformat_minor": 2
}
