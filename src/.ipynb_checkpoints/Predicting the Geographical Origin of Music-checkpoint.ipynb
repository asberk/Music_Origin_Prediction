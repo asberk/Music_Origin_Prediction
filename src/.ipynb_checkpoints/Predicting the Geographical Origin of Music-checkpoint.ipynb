{
 "cells": [
  {
   "cell_type": "markdown",
   "metadata": {},
   "source": [
    "# Predicting the Geographical Origin of Music"
   ]
  },
  {
   "cell_type": "markdown",
   "metadata": {},
   "source": [
    "## Overview\n",
    "\n",
    "The quesion that we are looking at, is weather the geographical origin of songs can be predicted based on different audio features. The data can be downloaded [here](http://archive.ics.uci.edu/ml/datasets/geographical+original+of+music). Prior exploration has been performed on this data. The most well-known study can be viewed [here](http://ieeexplore.ieee.org/stamp/stamp.jsp?tp=&arnumber=7023456)."
   ]
  },
  {
   "cell_type": "markdown",
   "metadata": {},
   "source": [
    "## Data Exploaration\n",
    "\n",
    "The dataset consists of audio features that were extracted using [MARSYAS](http://marsyasweb.appspot.com/). The features that we are using can be seen as the key audio features of a song. We need to predict the geographical region of a song based on these features. The data does not include geographical regions, but rather lattitudanal and longitudinal coordinates. We would need to first perform clustering to figure out the geographical region for a set of coordinates."
   ]
  },
  {
   "cell_type": "markdown",
   "metadata": {},
   "source": [
    "## Data Preparation"
   ]
  },
  {
   "cell_type": "code",
   "execution_count": 101,
   "metadata": {
    "collapsed": true
   },
   "outputs": [],
   "source": [
    "import csv\n",
    "import numpy as np\n",
    "from sklearn.cluster import KMeans\n",
    "import matplotlib.pyplot as plt\n",
    "%matplotlib inline\n",
    "import matplotlib\n",
    "\n",
    "with open('../data/default_features_1059_tracks.txt', newline='') as inputfile:\n",
    "    data = list(csv.reader(inputfile))"
   ]
  },
  {
   "cell_type": "code",
   "execution_count": 71,
   "metadata": {},
   "outputs": [
    {
     "data": {
      "text/plain": [
       "(1059, 70)"
      ]
     },
     "execution_count": 71,
     "metadata": {},
     "output_type": "execute_result"
    }
   ],
   "source": [
    "data = np.asarray(data)\n",
    "data.shape"
   ]
  },
  {
   "cell_type": "markdown",
   "metadata": {},
   "source": [
    "Each row is a song (observation) and each song is an audio feature. However, the last two columns are the geographical coordinates, so we need to split this appropriately."
   ]
  },
  {
   "cell_type": "code",
   "execution_count": 72,
   "metadata": {},
   "outputs": [
    {
     "name": "stdout",
     "output_type": "stream",
     "text": [
      "X sample\n",
      "7.835325\n",
      "\n",
      "y sample\n",
      "['-15.75' '-47.95']\n"
     ]
    }
   ],
   "source": [
    "X = data[:, 0:68]\n",
    "y = data[:, 68:70]\n",
    "\n",
    "print(\"X sample\")\n",
    "print(X[0, 1])\n",
    "print(\"\")\n",
    "print(\"y sample\")\n",
    "print(y[0, 0:2])"
   ]
  },
  {
   "cell_type": "markdown",
   "metadata": {},
   "source": [
    "Unfortunately, the coordinates are character values. We need to convert these to numerical values to see the relationship between them on a map."
   ]
  },
  {
   "cell_type": "code",
   "execution_count": 73,
   "metadata": {},
   "outputs": [
    {
     "name": "stdout",
     "output_type": "stream",
     "text": [
      "[-15.75 -47.95]\n"
     ]
    }
   ],
   "source": [
    "y = y.astype(dtype = np.float)\n",
    "print(y[0, 0:2])"
   ]
  },
  {
   "cell_type": "markdown",
   "metadata": {},
   "source": [
    "Seeing that we need to predict the geographic area, we need to reduce the two coordinate prediction column to a single prediction column. Dimension reduction techniques such as PCA might work, but seeing that we know that there are 33 geographic locations within the data, clustering might be a better approach."
   ]
  },
  {
   "cell_type": "code",
   "execution_count": 99,
   "metadata": {},
   "outputs": [],
   "source": [
    "n_clusters = 33\n",
    "kmeans = KMeans(n_clusters=n_clusters, max_iter = 500, algorithm='full')\n",
    "kmeans = kmeans.fit(y)\n",
    "labels = kmeans.predict(y)\n",
    "\n",
    "#print('Centroids')\n",
    "centroids = kmeans.cluster_centers_\n",
    "#print(centroids)"
   ]
  },
  {
   "cell_type": "code",
   "execution_count": 103,
   "metadata": {},
   "outputs": [
    {
     "data": {
      "text/plain": [
       "<matplotlib.figure.Figure at 0x29892b48358>"
      ]
     },
     "execution_count": 103,
     "metadata": {},
     "output_type": "execute_result"
    },
    {
     "data": {
      "image/png": "[encoded data removed]",
      "text/plain": [
       "<matplotlib.figure.Figure at 0x29890d86be0>"
      ]
     },
     "metadata": {},
     "output_type": "display_data"
    },
    {
     "data": {
      "text/plain": [
       "<matplotlib.figure.Figure at 0x29892b48358>"
      ]
     },
     "metadata": {},
     "output_type": "display_data"
    }
   ],
   "source": [
    "plt.style.use('ggplot')\n",
    "label_color = [matplotlib.cm.spectral(float(l) /n_clusters) for l in labels]\n",
    "plt.scatter(y[:, 1], y[:, 0], c = label_color, s=25)\n",
    "plt.title(\"Clustered regions by coordinates\")\n",
    "plt.xlabel(\"Longitude\")\n",
    "plt.ylabel(\"Latitude\")\n",
    "\n",
    "plt.figure()"
   ]
  },
  {
   "cell_type": "markdown",
   "metadata": {},
   "source": [
    "According to the research paper, data was collected from 33 countries/regions. As we can see from the plot above, it seems as if the coordinates provided are identical per region. However, it seeems as if some of the geographical regions are closer to each other than others. Even though countries or regions might be divided by borders, it seems logical that some of these geographical regions would be influenced by nearby located regions. This is important to bear in mind. If we are making inaccurate classifications, we might want to see whether the prediction is a nearby region. If this is the case, we should consider reducing the number of clusters."
   ]
  },
  {
   "cell_type": "code",
   "execution_count": 104,
   "metadata": {
    "collapsed": true
   },
   "outputs": [],
   "source": [
    "y = labels"
   ]
  },
  {
   "cell_type": "markdown",
   "metadata": {},
   "source": [
    "## Feature selection"
   ]
  },
  {
   "cell_type": "markdown",
   "metadata": {},
   "source": [
    "We have 68 features, but we have no idea whether all the features are relevant or not. If we were building a regression model, we would've been able to use something like Lasso to determine which features can be eliminated. However, since we are trying to classify songs by region, we need to use a different approach.\n",
    "\n",
    "We can use Python's `RFE` function to perform backward selection. We still need an estimator to perform feature selection. We can use RFE with a variety of estimators and see which performs the best in terms of minimising the number of features needed for the best accuracy score. We ideally want an estimator with an overall high accuracy score and preferably with a reduced amount of features to simplify the model. For this project we will use the `RFECV` function to combine cross validation with the `RFE` function.\n",
    "\n",
    "Because it is a classification problem, we can consider the following estimators - random forest, SVM (SVC) with a linear kernel, kmeans and k-nearestneighbours. For each estimator, we should iterate through a range of hyperparameters and consider each combination for feature selection - each model with optimal hyperparameters should be compared for feature selection.\n",
    "\n",
    "Just to be save for when we finally predict our accuracy on our taining data, we should exclude this training data when selecting estimators, even if it while doing feature selection."
   ]
  },
  {
   "cell_type": "code",
   "execution_count": 149,
   "metadata": {},
   "outputs": [
    {
     "name": "stdout",
     "output_type": "stream",
     "text": [
      "For <class 'sklearn.ensemble.forest.RandomForestClassifier'> optimal parameters are {'n_estimators': 35} with number of features : 47\n"
     ]
    },
    {
     "data": {
      "image/png": "[encoded data removed]",
      "text/plain": [
       "<matplotlib.figure.Figure at 0x2989420fc88>"
      ]
     },
     "metadata": {},
     "output_type": "display_data"
    }
   ],
   "source": [
    "from sklearn.svm import SVC\n",
    "from sklearn.model_selection import StratifiedKFold\n",
    "from sklearn.feature_selection import RFECV\n",
    "from sklearn.datasets import make_classification\n",
    "from sklearn.ensemble import RandomForestClassifier\n",
    "from sklearn.model_selection import train_test_split\n",
    "from sklearn.grid_search import ParameterGrid\n",
    "\n",
    "\n",
    "\n",
    "Xtrain, Xtest, ytrain, ytest = train_test_split(X, y, test_size=0.8, random_state=1234)\n",
    "\n",
    "estimators = {}\n",
    "\n",
    "estimators['svc'] = SVC\n",
    "estimators['clf'] = RandomForestClassifier\n",
    "\n",
    "params = {}\n",
    "params['svc'] = {'kernel': ['linear'], 'C': [10**x for x in range(-2, 5, 1)], \n",
    "                 'gamma': [10**x for x in range(-2, 5, 1)], \n",
    "                'random_state': [1234]}\n",
    "params['clf'] = {'n_estimators': [5*x for x in range(1, 8, 1)]}\n",
    "\n",
    "best_model = {}\n",
    "\n",
    "# model_params = {}\n",
    "# model_params['svc'] = ['C', 'gamma']\n",
    "# model_params['clf'] = ['n_estimators']\n",
    "\n",
    "for i, estimator in enumerate(estimators):\n",
    "    model_params = ParameterGrid(params[estimator])\n",
    "    grid = model_params\n",
    "    \n",
    "    best_model[estimator] = [0]\n",
    "    \n",
    "    for params_combo in grid:\n",
    "       #exec(model_param + \" = param_comb[j]\") \n",
    "    \n",
    "#     names = sorted(model_params)\n",
    "#     param_comb = it.product(*(model_params[name] for name in names))\n",
    "#     param_comb = list(param_comb)\n",
    "#     for j, model_param in enumerate(model_params[estimator]):\n",
    "#         exec(model_param + \" = param_comb[j]\")\n",
    "#         estimator(model_param = model_param)\n",
    "        \n",
    "        estimator_iter = estimators[estimator]\n",
    "        estimator_iter = estimator_iter(**params_combo)\n",
    "            \n",
    "        rfecv = RFECV(estimator = estimator_iter, step=1, cv=StratifiedKFold(n_splits=2, shuffle=True),\n",
    "                  scoring='accuracy')\n",
    "\n",
    "\n",
    "        rfecv.fit(Xtrain, ytrain)\n",
    "        \n",
    "        if (max(rfecv.grid_scores_) > best_model[estimator][0]):\n",
    "            best_model[estimator] = [max(rfecv.grid_scores_), params_combo, rfecv.n_features_, rfecv.grid_scores_]\n",
    "\n",
    "    print(\"For %s optimal parameters are %s with number of features : %d\" % (estimator, best_model[estimator][1], \n",
    "         best_model[estimator][2]))\n",
    "\n",
    "    # Plot number of features VS. cross-validation scores\n",
    "    plt.figure()\n",
    "    plt.xlabel(\"Number of features selected\")\n",
    "    plt.ylabel(\"Cross validation score (nb of correct classifications)\")\n",
    "    plt.plot(range(1, len(best_model[estimator][3]) + 1), best_model[estimator][3])\n",
    "    plt.show()"
   ]
  },
  {
   "cell_type": "code",
   "execution_count": 139,
   "metadata": {},
   "outputs": [
    {
     "data": {
      "text/plain": [
       "<function sklearn.base.BaseEstimator.get_params>"
      ]
     },
     "execution_count": 139,
     "metadata": {},
     "output_type": "execute_result"
    }
   ],
   "source": [
    "estimator_iter.get_params"
   ]
  }
 ],
 "metadata": {
  "kernelspec": {
   "display_name": "Python 3",
   "language": "python",
   "name": "python3"
  },
  "language_info": {
   "codemirror_mode": {
    "name": "ipython",
    "version": 3
   },
   "file_extension": ".py",
   "mimetype": "text/x-python",
   "name": "python",
   "nbconvert_exporter": "python",
   "pygments_lexer": "ipython3",
   "version": "3.6.1"
  }
 },
 "nbformat": 4,
 "nbformat_minor": 2
}
